{
  "nbformat": 4,
  "nbformat_minor": 0,
  "metadata": {
    "colab": {
      "provenance": [],
      "include_colab_link": true
    },
    "kernelspec": {
      "name": "python3",
      "display_name": "Python 3"
    },
    "language_info": {
      "name": "python"
    }
  },
  "cells": [
    {
      "cell_type": "markdown",
      "metadata": {
        "id": "view-in-github",
        "colab_type": "text"
      },
      "source": [
        "<a href=\"https://colab.research.google.com/github/DabanAbdullah/DabanAbdullah/blob/main/Untitled333.ipynb\" target=\"_parent\"><img src=\"https://colab.research.google.com/assets/colab-badge.svg\" alt=\"Open In Colab\"/></a>"
      ]
    },
    {
      "cell_type": "code",
      "execution_count": null,
      "metadata": {
        "colab": {
          "base_uri": "https://localhost:8080/"
        },
        "id": "XA9b8ASjQvk1",
        "outputId": "aacb28f8-1edd-4369-af9f-b2e2ad115721"
      },
      "outputs": [
        {
          "output_type": "stream",
          "name": "stdout",
          "text": [
            "Reading package lists... Done\n",
            "Building dependency tree... Done\n",
            "Reading state information... Done\n",
            "The following additional packages will be installed:\n",
            "  libstd-rust-1.75 libstd-rust-dev\n",
            "Suggested packages:\n",
            "  cargo llvm-17 lld-17 clang-17\n",
            "The following NEW packages will be installed:\n",
            "  libstd-rust-1.75 libstd-rust-dev rustc\n",
            "0 upgraded, 3 newly installed, 0 to remove and 45 not upgraded.\n",
            "Need to get 91.4 MB of archives.\n",
            "After this operation, 369 MB of additional disk space will be used.\n",
            "Get:1 http://archive.ubuntu.com/ubuntu jammy-updates/main amd64 libstd-rust-1.75 amd64 1.75.0+dfsg0ubuntu1~bpo0-0ubuntu0.22.04 [46.3 MB]\n",
            "Get:2 http://archive.ubuntu.com/ubuntu jammy-updates/main amd64 libstd-rust-dev amd64 1.75.0+dfsg0ubuntu1~bpo0-0ubuntu0.22.04 [41.6 MB]\n",
            "Get:3 http://archive.ubuntu.com/ubuntu jammy-updates/main amd64 rustc amd64 1.75.0+dfsg0ubuntu1~bpo0-0ubuntu0.22.04 [3,404 kB]\n",
            "Fetched 91.4 MB in 4s (20.4 MB/s)\n",
            "Selecting previously unselected package libstd-rust-1.75:amd64.\n",
            "(Reading database ... 121913 files and directories currently installed.)\n",
            "Preparing to unpack .../libstd-rust-1.75_1.75.0+dfsg0ubuntu1~bpo0-0ubuntu0.22.04_amd64.deb ...\n",
            "Unpacking libstd-rust-1.75:amd64 (1.75.0+dfsg0ubuntu1~bpo0-0ubuntu0.22.04) ...\n",
            "Selecting previously unselected package libstd-rust-dev:amd64.\n",
            "Preparing to unpack .../libstd-rust-dev_1.75.0+dfsg0ubuntu1~bpo0-0ubuntu0.22.04_amd64.deb ...\n",
            "Unpacking libstd-rust-dev:amd64 (1.75.0+dfsg0ubuntu1~bpo0-0ubuntu0.22.04) ...\n",
            "Selecting previously unselected package rustc.\n",
            "Preparing to unpack .../rustc_1.75.0+dfsg0ubuntu1~bpo0-0ubuntu0.22.04_amd64.deb ...\n",
            "Unpacking rustc (1.75.0+dfsg0ubuntu1~bpo0-0ubuntu0.22.04) ...\n",
            "Setting up libstd-rust-1.75:amd64 (1.75.0+dfsg0ubuntu1~bpo0-0ubuntu0.22.04) ...\n",
            "Setting up libstd-rust-dev:amd64 (1.75.0+dfsg0ubuntu1~bpo0-0ubuntu0.22.04) ...\n",
            "Setting up rustc (1.75.0+dfsg0ubuntu1~bpo0-0ubuntu0.22.04) ...\n",
            "Processing triggers for man-db (2.10.2-1) ...\n",
            "Processing triggers for libc-bin (2.35-0ubuntu3.4) ...\n",
            "/sbin/ldconfig.real: /usr/local/lib/libtbbbind.so.3 is not a symbolic link\n",
            "\n",
            "/sbin/ldconfig.real: /usr/local/lib/libtbbbind_2_5.so.3 is not a symbolic link\n",
            "\n",
            "/sbin/ldconfig.real: /usr/local/lib/libtbbmalloc.so.2 is not a symbolic link\n",
            "\n",
            "/sbin/ldconfig.real: /usr/local/lib/libtbbmalloc_proxy.so.2 is not a symbolic link\n",
            "\n",
            "/sbin/ldconfig.real: /usr/local/lib/libtbb.so.12 is not a symbolic link\n",
            "\n",
            "/sbin/ldconfig.real: /usr/local/lib/libtbbbind_2_0.so.3 is not a symbolic link\n",
            "\n",
            "Reading package lists... Done\n",
            "Building dependency tree... Done\n",
            "Reading state information... Done\n",
            "Suggested packages:\n",
            "  cargo-doc\n",
            "The following NEW packages will be installed:\n",
            "  cargo\n",
            "0 upgraded, 1 newly installed, 0 to remove and 45 not upgraded.\n",
            "Need to get 6,700 kB of archives.\n",
            "After this operation, 23.3 MB of additional disk space will be used.\n",
            "Get:1 http://archive.ubuntu.com/ubuntu jammy-updates/universe amd64 cargo amd64 1.75.0+dfsg0ubuntu1~bpo0-0ubuntu0.22.04 [6,700 kB]\n",
            "Fetched 6,700 kB in 1s (6,186 kB/s)\n",
            "Selecting previously unselected package cargo.\n",
            "(Reading database ... 121988 files and directories currently installed.)\n",
            "Preparing to unpack .../cargo_1.75.0+dfsg0ubuntu1~bpo0-0ubuntu0.22.04_amd64.deb ...\n",
            "Unpacking cargo (1.75.0+dfsg0ubuntu1~bpo0-0ubuntu0.22.04) ...\n",
            "Setting up cargo (1.75.0+dfsg0ubuntu1~bpo0-0ubuntu0.22.04) ...\n",
            "Processing triggers for man-db (2.10.2-1) ...\n"
          ]
        }
      ],
      "source": [
        "!apt install rustc && apt install cargo"
      ]
    },
    {
      "cell_type": "code",
      "source": [
        "!pip install rasa[transformers]==3.6.15\n",
        "\n",
        "!pip install nest-asyncio==1.5.6\n",
        "!pip install --upgrade ipykernel"
      ],
      "metadata": {
        "colab": {
          "base_uri": "https://localhost:8080/"
        },
        "id": "hUGP1-UUQ4oU",
        "outputId": "3557a007-4c16-40ba-b426-017a4d945585"
      },
      "execution_count": null,
      "outputs": [
        {
          "output_type": "stream",
          "name": "stdout",
          "text": [
            "Requirement already satisfied: rasa[transformers]==3.6.15 in /usr/local/lib/python3.10/dist-packages (3.6.15)\n",
            "Requirement already satisfied: CacheControl<0.13.0,>=0.12.9 in /usr/local/lib/python3.10/dist-packages (from rasa[transformers]==3.6.15) (0.12.14)\n",
            "Requirement already satisfied: PyJWT[crypto]<3.0.0,>=2.0.0 in /usr/lib/python3/dist-packages (from rasa[transformers]==3.6.15) (2.3.0)\n",
            "Requirement already satisfied: SQLAlchemy<1.5.0,>=1.4.0 in /usr/local/lib/python3.10/dist-packages (from rasa[transformers]==3.6.15) (1.4.52)\n",
            "Requirement already satisfied: absl-py<1.5,>=0.9 in /usr/local/lib/python3.10/dist-packages (from rasa[transformers]==3.6.15) (1.4.0)\n",
            "Requirement already satisfied: aio-pika<8.2.4,>=6.7.1 in /usr/local/lib/python3.10/dist-packages (from rasa[transformers]==3.6.15) (8.2.3)\n",
            "Requirement already satisfied: aiogram<2.26 in /usr/local/lib/python3.10/dist-packages (from rasa[transformers]==3.6.15) (2.25.2)\n",
            "Requirement already satisfied: aiohttp!=3.7.4.post0,<3.9,>=3.6 in /usr/local/lib/python3.10/dist-packages (from rasa[transformers]==3.6.15) (3.8.6)\n",
            "Requirement already satisfied: apscheduler<3.10,>=3.6 in /usr/local/lib/python3.10/dist-packages (from rasa[transformers]==3.6.15) (3.9.1.post1)\n",
            "Requirement already satisfied: attrs<22.2,>=19.3 in /usr/local/lib/python3.10/dist-packages (from rasa[transformers]==3.6.15) (22.1.0)\n",
            "Requirement already satisfied: boto3<2.0.0,>=1.26.136 in /usr/local/lib/python3.10/dist-packages (from rasa[transformers]==3.6.15) (1.34.127)\n",
            "Requirement already satisfied: certifi>=2023.7.22 in /usr/local/lib/python3.10/dist-packages (from rasa[transformers]==3.6.15) (2024.6.2)\n",
            "Requirement already satisfied: cloudpickle<2.3,>=1.2 in /usr/local/lib/python3.10/dist-packages (from rasa[transformers]==3.6.15) (2.2.1)\n",
            "Requirement already satisfied: colorclass<2.3,>=2.2 in /usr/local/lib/python3.10/dist-packages (from rasa[transformers]==3.6.15) (2.2.2)\n",
            "Requirement already satisfied: coloredlogs<16,>=10 in /usr/local/lib/python3.10/dist-packages (from rasa[transformers]==3.6.15) (15.0.1)\n",
            "Requirement already satisfied: colorhash<1.3.0,>=1.0.2 in /usr/local/lib/python3.10/dist-packages (from rasa[transformers]==3.6.15) (1.2.1)\n",
            "Requirement already satisfied: confluent-kafka<3.0.0,>=1.9.2 in /usr/local/lib/python3.10/dist-packages (from rasa[transformers]==3.6.15) (2.4.0)\n",
            "Requirement already satisfied: cryptography>=41.0.2 in /usr/local/lib/python3.10/dist-packages (from rasa[transformers]==3.6.15) (42.0.8)\n",
            "Requirement already satisfied: dask==2022.10.2 in /usr/local/lib/python3.10/dist-packages (from rasa[transformers]==3.6.15) (2022.10.2)\n",
            "Requirement already satisfied: dnspython==2.3.0 in /usr/local/lib/python3.10/dist-packages (from rasa[transformers]==3.6.15) (2.3.0)\n",
            "Requirement already satisfied: fbmessenger<6.1.0,>=6.0.0 in /usr/local/lib/python3.10/dist-packages (from rasa[transformers]==3.6.15) (6.0.0)\n",
            "Requirement already satisfied: google-auth<3 in /usr/local/lib/python3.10/dist-packages (from rasa[transformers]==3.6.15) (2.27.0)\n",
            "Requirement already satisfied: joblib<1.3.0,>=0.15.1 in /usr/local/lib/python3.10/dist-packages (from rasa[transformers]==3.6.15) (1.2.0)\n",
            "Requirement already satisfied: jsonpickle<3.1,>=1.3 in /usr/local/lib/python3.10/dist-packages (from rasa[transformers]==3.6.15) (3.0.4)\n",
            "Requirement already satisfied: jsonschema<4.18,>=3.2 in /usr/local/lib/python3.10/dist-packages (from rasa[transformers]==3.6.15) (4.17.3)\n",
            "Requirement already satisfied: matplotlib<3.6,>=3.1 in /usr/local/lib/python3.10/dist-packages (from rasa[transformers]==3.6.15) (3.5.3)\n",
            "Requirement already satisfied: mattermostwrapper<2.3,>=2.2 in /usr/local/lib/python3.10/dist-packages (from rasa[transformers]==3.6.15) (2.2)\n",
            "Requirement already satisfied: networkx<2.7,>=2.4 in /usr/local/lib/python3.10/dist-packages (from rasa[transformers]==3.6.15) (2.6.3)\n",
            "Requirement already satisfied: numpy<1.25.0,>=1.19.2 in /usr/local/lib/python3.10/dist-packages (from rasa[transformers]==3.6.15) (1.23.5)\n",
            "Requirement already satisfied: packaging<21.0,>=20.0 in /usr/local/lib/python3.10/dist-packages (from rasa[transformers]==3.6.15) (20.9)\n",
            "Requirement already satisfied: pluggy<2.0.0,>=1.0.0 in /usr/local/lib/python3.10/dist-packages (from rasa[transformers]==3.6.15) (1.5.0)\n",
            "Requirement already satisfied: portalocker<3.0.0,>=2.7.0 in /usr/local/lib/python3.10/dist-packages (from rasa[transformers]==3.6.15) (2.8.2)\n",
            "Requirement already satisfied: prompt-toolkit<3.0.29,>=3.0 in /usr/local/lib/python3.10/dist-packages (from rasa[transformers]==3.6.15) (3.0.28)\n",
            "Requirement already satisfied: protobuf<4.23.4,>=4.23.3 in /usr/local/lib/python3.10/dist-packages (from rasa[transformers]==3.6.15) (4.23.3)\n",
            "Requirement already satisfied: psycopg2-binary<2.10.0,>=2.8.2 in /usr/local/lib/python3.10/dist-packages (from rasa[transformers]==3.6.15) (2.9.9)\n",
            "Requirement already satisfied: pydantic<1.10.10 in /usr/local/lib/python3.10/dist-packages (from rasa[transformers]==3.6.15) (1.10.9)\n",
            "Requirement already satisfied: pydot<1.5,>=1.4 in /usr/local/lib/python3.10/dist-packages (from rasa[transformers]==3.6.15) (1.4.2)\n",
            "Requirement already satisfied: pykwalify<1.9,>=1.7 in /usr/local/lib/python3.10/dist-packages (from rasa[transformers]==3.6.15) (1.8.0)\n",
            "Requirement already satisfied: pymongo[srv,tls]<4.4,>=3.8 in /usr/local/lib/python3.10/dist-packages (from rasa[transformers]==3.6.15) (4.3.3)\n",
            "Requirement already satisfied: python-dateutil<2.9,>=2.8 in /usr/local/lib/python3.10/dist-packages (from rasa[transformers]==3.6.15) (2.8.2)\n",
            "Requirement already satisfied: python-engineio!=5.0.0,<6,>=4 in /usr/local/lib/python3.10/dist-packages (from rasa[transformers]==3.6.15) (4.9.1)\n",
            "Requirement already satisfied: python-socketio<6,>=4.4 in /usr/local/lib/python3.10/dist-packages (from rasa[transformers]==3.6.15) (5.11.2)\n",
            "Requirement already satisfied: pytz<2023.0,>=2019.1 in /usr/local/lib/python3.10/dist-packages (from rasa[transformers]==3.6.15) (2022.7.1)\n",
            "Requirement already satisfied: pyyaml>=6.0 in /usr/local/lib/python3.10/dist-packages (from rasa[transformers]==3.6.15) (6.0.1)\n",
            "Requirement already satisfied: questionary<1.11.0,>=1.5.1 in /usr/local/lib/python3.10/dist-packages (from rasa[transformers]==3.6.15) (1.10.0)\n",
            "Requirement already satisfied: randomname<0.2.0,>=0.1.5 in /usr/local/lib/python3.10/dist-packages (from rasa[transformers]==3.6.15) (0.1.5)\n",
            "Requirement already satisfied: rasa-sdk<3.7.0,>=3.6.2 in /usr/local/lib/python3.10/dist-packages (from rasa[transformers]==3.6.15) (3.6.2)\n",
            "Requirement already satisfied: redis<5.0,>=4.5.3 in /usr/local/lib/python3.10/dist-packages (from rasa[transformers]==3.6.15) (4.6.0)\n",
            "Requirement already satisfied: regex<2022.11,>=2020.6 in /usr/local/lib/python3.10/dist-packages (from rasa[transformers]==3.6.15) (2022.10.31)\n",
            "Requirement already satisfied: requests<3.0,>=2.23 in /usr/local/lib/python3.10/dist-packages (from rasa[transformers]==3.6.15) (2.31.0)\n",
            "Requirement already satisfied: rocketchat_API<1.31.0,>=0.6.31 in /usr/local/lib/python3.10/dist-packages (from rasa[transformers]==3.6.15) (1.30.0)\n",
            "Requirement already satisfied: ruamel.yaml<0.17.22,>=0.16.5 in /usr/local/lib/python3.10/dist-packages (from rasa[transformers]==3.6.15) (0.17.21)\n",
            "Requirement already satisfied: sanic<21.13,>=21.12 in /usr/local/lib/python3.10/dist-packages (from rasa[transformers]==3.6.15) (21.12.2)\n",
            "Requirement already satisfied: sanic-cors<2.1.0,>=2.0.0 in /usr/local/lib/python3.10/dist-packages (from rasa[transformers]==3.6.15) (2.0.1)\n",
            "Requirement already satisfied: sanic-jwt<2.0.0,>=1.6.0 in /usr/local/lib/python3.10/dist-packages (from rasa[transformers]==3.6.15) (1.8.0)\n",
            "Requirement already satisfied: sanic-routing<0.8.0,>=0.7.2 in /usr/local/lib/python3.10/dist-packages (from rasa[transformers]==3.6.15) (0.7.2)\n",
            "Requirement already satisfied: scikit-learn<1.2,>=0.22 in /usr/local/lib/python3.10/dist-packages (from rasa[transformers]==3.6.15) (1.1.3)\n",
            "Requirement already satisfied: scipy>=1.10.0 in /usr/local/lib/python3.10/dist-packages (from rasa[transformers]==3.6.15) (1.11.4)\n",
            "Requirement already satisfied: sentry-sdk<1.15.0,>=0.17.0 in /usr/local/lib/python3.10/dist-packages (from rasa[transformers]==3.6.15) (1.14.0)\n",
            "Requirement already satisfied: setuptools>=65.5.1 in /usr/local/lib/python3.10/dist-packages (from rasa[transformers]==3.6.15) (67.7.2)\n",
            "Requirement already satisfied: sklearn-crfsuite<0.4,>=0.3 in /usr/local/lib/python3.10/dist-packages (from rasa[transformers]==3.6.15) (0.3.6)\n",
            "Requirement already satisfied: slack-sdk<4.0.0,>=3.19.2 in /usr/local/lib/python3.10/dist-packages (from rasa[transformers]==3.6.15) (3.29.0)\n",
            "Requirement already satisfied: structlog<24.0.0,>=23.1.0 in /usr/local/lib/python3.10/dist-packages (from rasa[transformers]==3.6.15) (23.3.0)\n",
            "Requirement already satisfied: structlog-sentry<3.0.0,>=2.0.2 in /usr/local/lib/python3.10/dist-packages (from rasa[transformers]==3.6.15) (2.1.0)\n",
            "Requirement already satisfied: tarsafe<0.0.5,>=0.0.3 in /usr/local/lib/python3.10/dist-packages (from rasa[transformers]==3.6.15) (0.0.4)\n",
            "Requirement already satisfied: tensorflow==2.12.0 in /usr/local/lib/python3.10/dist-packages (from rasa[transformers]==3.6.15) (2.12.0)\n",
            "Requirement already satisfied: tensorflow-io-gcs-filesystem==0.32 in /usr/local/lib/python3.10/dist-packages (from rasa[transformers]==3.6.15) (0.32.0)\n",
            "Requirement already satisfied: tensorflow-text==2.12.0 in /usr/local/lib/python3.10/dist-packages (from rasa[transformers]==3.6.15) (2.12.0)\n",
            "Requirement already satisfied: tensorflow_hub<0.14.0,>=0.13.0 in /usr/local/lib/python3.10/dist-packages (from rasa[transformers]==3.6.15) (0.13.0)\n",
            "Requirement already satisfied: terminaltables<3.2.0,>=3.1.0 in /usr/local/lib/python3.10/dist-packages (from rasa[transformers]==3.6.15) (3.1.10)\n",
            "Requirement already satisfied: tqdm<5.0,>=4.31 in /usr/local/lib/python3.10/dist-packages (from rasa[transformers]==3.6.15) (4.66.4)\n",
            "Requirement already satisfied: twilio<8.3,>=6.26 in /usr/local/lib/python3.10/dist-packages (from rasa[transformers]==3.6.15) (8.2.2)\n",
            "Requirement already satisfied: typing-extensions<5.0.0,>=4.1.1 in /usr/local/lib/python3.10/dist-packages (from rasa[transformers]==3.6.15) (4.12.2)\n",
            "Requirement already satisfied: typing-utils<0.2.0,>=0.1.0 in /usr/local/lib/python3.10/dist-packages (from rasa[transformers]==3.6.15) (0.1.0)\n",
            "Requirement already satisfied: ujson<6.0,>=1.35 in /usr/local/lib/python3.10/dist-packages (from rasa[transformers]==3.6.15) (5.10.0)\n",
            "Requirement already satisfied: webexteamssdk<1.7.0,>=1.1.1 in /usr/local/lib/python3.10/dist-packages (from rasa[transformers]==3.6.15) (1.6.1)\n",
            "Requirement already satisfied: websockets<11.0,>=10.0 in /usr/local/lib/python3.10/dist-packages (from rasa[transformers]==3.6.15) (10.4)\n",
            "Requirement already satisfied: wheel>=0.38.1 in /usr/local/lib/python3.10/dist-packages (from rasa[transformers]==3.6.15) (0.43.0)\n",
            "Requirement already satisfied: sentencepiece[sentencepiece]<0.2.0,>=0.1.99 in /usr/local/lib/python3.10/dist-packages (from rasa[transformers]==3.6.15) (0.1.99)\n",
            "Requirement already satisfied: transformers<=4.26.0,>=4.13.0 in /usr/local/lib/python3.10/dist-packages (from rasa[transformers]==3.6.15) (4.26.0)\n",
            "Requirement already satisfied: click>=7.0 in /usr/local/lib/python3.10/dist-packages (from dask==2022.10.2->rasa[transformers]==3.6.15) (8.1.7)\n",
            "Requirement already satisfied: fsspec>=0.6.0 in /usr/local/lib/python3.10/dist-packages (from dask==2022.10.2->rasa[transformers]==3.6.15) (2023.6.0)\n",
            "Requirement already satisfied: partd>=0.3.10 in /usr/local/lib/python3.10/dist-packages (from dask==2022.10.2->rasa[transformers]==3.6.15) (1.4.2)\n",
            "Requirement already satisfied: toolz>=0.8.2 in /usr/local/lib/python3.10/dist-packages (from dask==2022.10.2->rasa[transformers]==3.6.15) (0.12.1)\n",
            "Requirement already satisfied: astunparse>=1.6.0 in /usr/local/lib/python3.10/dist-packages (from tensorflow==2.12.0->rasa[transformers]==3.6.15) (1.6.3)\n",
            "Requirement already satisfied: flatbuffers>=2.0 in /usr/local/lib/python3.10/dist-packages (from tensorflow==2.12.0->rasa[transformers]==3.6.15) (24.3.25)\n",
            "Requirement already satisfied: gast<=0.4.0,>=0.2.1 in /usr/local/lib/python3.10/dist-packages (from tensorflow==2.12.0->rasa[transformers]==3.6.15) (0.4.0)\n",
            "Requirement already satisfied: google-pasta>=0.1.1 in /usr/local/lib/python3.10/dist-packages (from tensorflow==2.12.0->rasa[transformers]==3.6.15) (0.2.0)\n",
            "Requirement already satisfied: grpcio<2.0,>=1.24.3 in /usr/local/lib/python3.10/dist-packages (from tensorflow==2.12.0->rasa[transformers]==3.6.15) (1.64.1)\n",
            "Requirement already satisfied: h5py>=2.9.0 in /usr/local/lib/python3.10/dist-packages (from tensorflow==2.12.0->rasa[transformers]==3.6.15) (3.9.0)\n",
            "Requirement already satisfied: jax>=0.3.15 in /usr/local/lib/python3.10/dist-packages (from tensorflow==2.12.0->rasa[transformers]==3.6.15) (0.4.26)\n",
            "Requirement already satisfied: keras<2.13,>=2.12.0 in /usr/local/lib/python3.10/dist-packages (from tensorflow==2.12.0->rasa[transformers]==3.6.15) (2.12.0)\n",
            "Requirement already satisfied: libclang>=13.0.0 in /usr/local/lib/python3.10/dist-packages (from tensorflow==2.12.0->rasa[transformers]==3.6.15) (18.1.1)\n",
            "Requirement already satisfied: opt-einsum>=2.3.2 in /usr/local/lib/python3.10/dist-packages (from tensorflow==2.12.0->rasa[transformers]==3.6.15) (3.3.0)\n",
            "Requirement already satisfied: six>=1.12.0 in /usr/local/lib/python3.10/dist-packages (from tensorflow==2.12.0->rasa[transformers]==3.6.15) (1.16.0)\n",
            "Requirement already satisfied: tensorboard<2.13,>=2.12 in /usr/local/lib/python3.10/dist-packages (from tensorflow==2.12.0->rasa[transformers]==3.6.15) (2.12.3)\n",
            "Requirement already satisfied: tensorflow-estimator<2.13,>=2.12.0 in /usr/local/lib/python3.10/dist-packages (from tensorflow==2.12.0->rasa[transformers]==3.6.15) (2.12.0)\n",
            "Requirement already satisfied: termcolor>=1.1.0 in /usr/local/lib/python3.10/dist-packages (from tensorflow==2.12.0->rasa[transformers]==3.6.15) (2.4.0)\n",
            "Requirement already satisfied: wrapt<1.15,>=1.11.0 in /usr/local/lib/python3.10/dist-packages (from tensorflow==2.12.0->rasa[transformers]==3.6.15) (1.14.1)\n",
            "Requirement already satisfied: aiormq~=6.4.0 in /usr/local/lib/python3.10/dist-packages (from aio-pika<8.2.4,>=6.7.1->rasa[transformers]==3.6.15) (6.4.2)\n",
            "Requirement already satisfied: yarl in /usr/local/lib/python3.10/dist-packages (from aio-pika<8.2.4,>=6.7.1->rasa[transformers]==3.6.15) (1.9.4)\n",
            "Requirement already satisfied: Babel<2.10.0,>=2.9.1 in /usr/local/lib/python3.10/dist-packages (from aiogram<2.26->rasa[transformers]==3.6.15) (2.9.1)\n",
            "Requirement already satisfied: magic-filter>=1.0.9 in /usr/local/lib/python3.10/dist-packages (from aiogram<2.26->rasa[transformers]==3.6.15) (1.0.12)\n",
            "Requirement already satisfied: charset-normalizer<4.0,>=2.0 in /usr/local/lib/python3.10/dist-packages (from aiohttp!=3.7.4.post0,<3.9,>=3.6->rasa[transformers]==3.6.15) (3.3.2)\n",
            "Requirement already satisfied: multidict<7.0,>=4.5 in /usr/local/lib/python3.10/dist-packages (from aiohttp!=3.7.4.post0,<3.9,>=3.6->rasa[transformers]==3.6.15) (5.2.0)\n",
            "Requirement already satisfied: async-timeout<5.0,>=4.0.0a3 in /usr/local/lib/python3.10/dist-packages (from aiohttp!=3.7.4.post0,<3.9,>=3.6->rasa[transformers]==3.6.15) (4.0.3)\n",
            "Requirement already satisfied: frozenlist>=1.1.1 in /usr/local/lib/python3.10/dist-packages (from aiohttp!=3.7.4.post0,<3.9,>=3.6->rasa[transformers]==3.6.15) (1.4.1)\n",
            "Requirement already satisfied: aiosignal>=1.1.2 in /usr/local/lib/python3.10/dist-packages (from aiohttp!=3.7.4.post0,<3.9,>=3.6->rasa[transformers]==3.6.15) (1.3.1)\n",
            "Requirement already satisfied: tzlocal!=3.*,>=2.0 in /usr/local/lib/python3.10/dist-packages (from apscheduler<3.10,>=3.6->rasa[transformers]==3.6.15) (5.2)\n",
            "Requirement already satisfied: botocore<1.35.0,>=1.34.127 in /usr/local/lib/python3.10/dist-packages (from boto3<2.0.0,>=1.26.136->rasa[transformers]==3.6.15) (1.34.127)\n",
            "Requirement already satisfied: jmespath<2.0.0,>=0.7.1 in /usr/local/lib/python3.10/dist-packages (from boto3<2.0.0,>=1.26.136->rasa[transformers]==3.6.15) (1.0.1)\n",
            "Requirement already satisfied: s3transfer<0.11.0,>=0.10.0 in /usr/local/lib/python3.10/dist-packages (from boto3<2.0.0,>=1.26.136->rasa[transformers]==3.6.15) (0.10.1)\n",
            "Requirement already satisfied: msgpack>=0.5.2 in /usr/local/lib/python3.10/dist-packages (from CacheControl<0.13.0,>=0.12.9->rasa[transformers]==3.6.15) (1.0.8)\n",
            "Requirement already satisfied: humanfriendly>=9.1 in /usr/local/lib/python3.10/dist-packages (from coloredlogs<16,>=10->rasa[transformers]==3.6.15) (10.0)\n",
            "Requirement already satisfied: cffi>=1.12 in /usr/local/lib/python3.10/dist-packages (from cryptography>=41.0.2->rasa[transformers]==3.6.15) (1.16.0)\n",
            "Requirement already satisfied: cachetools<6.0,>=2.0.0 in /usr/local/lib/python3.10/dist-packages (from google-auth<3->rasa[transformers]==3.6.15) (5.3.3)\n",
            "Requirement already satisfied: pyasn1-modules>=0.2.1 in /usr/local/lib/python3.10/dist-packages (from google-auth<3->rasa[transformers]==3.6.15) (0.4.0)\n",
            "Requirement already satisfied: rsa<5,>=3.1.4 in /usr/local/lib/python3.10/dist-packages (from google-auth<3->rasa[transformers]==3.6.15) (4.9)\n",
            "Requirement already satisfied: pyrsistent!=0.17.0,!=0.17.1,!=0.17.2,>=0.14.0 in /usr/local/lib/python3.10/dist-packages (from jsonschema<4.18,>=3.2->rasa[transformers]==3.6.15) (0.20.0)\n",
            "Requirement already satisfied: cycler>=0.10 in /usr/local/lib/python3.10/dist-packages (from matplotlib<3.6,>=3.1->rasa[transformers]==3.6.15) (0.12.1)\n",
            "Requirement already satisfied: fonttools>=4.22.0 in /usr/local/lib/python3.10/dist-packages (from matplotlib<3.6,>=3.1->rasa[transformers]==3.6.15) (4.53.0)\n",
            "Requirement already satisfied: kiwisolver>=1.0.1 in /usr/local/lib/python3.10/dist-packages (from matplotlib<3.6,>=3.1->rasa[transformers]==3.6.15) (1.4.5)\n",
            "Requirement already satisfied: pillow>=6.2.0 in /usr/local/lib/python3.10/dist-packages (from matplotlib<3.6,>=3.1->rasa[transformers]==3.6.15) (9.4.0)\n",
            "Requirement already satisfied: pyparsing>=2.2.1 in /usr/local/lib/python3.10/dist-packages (from matplotlib<3.6,>=3.1->rasa[transformers]==3.6.15) (3.1.2)\n",
            "Requirement already satisfied: wcwidth in /usr/local/lib/python3.10/dist-packages (from prompt-toolkit<3.0.29,>=3.0->rasa[transformers]==3.6.15) (0.2.13)\n",
            "Requirement already satisfied: docopt>=0.6.2 in /usr/local/lib/python3.10/dist-packages (from pykwalify<1.9,>=1.7->rasa[transformers]==3.6.15) (0.6.2)\n",
            "Requirement already satisfied: simple-websocket>=0.10.0 in /usr/local/lib/python3.10/dist-packages (from python-engineio!=5.0.0,<6,>=4->rasa[transformers]==3.6.15) (1.0.0)\n",
            "Requirement already satisfied: bidict>=0.21.0 in /usr/local/lib/python3.10/dist-packages (from python-socketio<6,>=4.4->rasa[transformers]==3.6.15) (0.23.1)\n",
            "Requirement already satisfied: fire in /usr/local/lib/python3.10/dist-packages (from randomname<0.2.0,>=0.1.5->rasa[transformers]==3.6.15) (0.6.0)\n",
            "Requirement already satisfied: idna<4,>=2.5 in /usr/local/lib/python3.10/dist-packages (from requests<3.0,>=2.23->rasa[transformers]==3.6.15) (3.7)\n",
            "Requirement already satisfied: urllib3<3,>=1.21.1 in /usr/local/lib/python3.10/dist-packages (from requests<3.0,>=2.23->rasa[transformers]==3.6.15) (2.0.7)\n",
            "Requirement already satisfied: ruamel.yaml.clib>=0.2.6 in /usr/local/lib/python3.10/dist-packages (from ruamel.yaml<0.17.22,>=0.16.5->rasa[transformers]==3.6.15) (0.2.8)\n",
            "Requirement already satisfied: httptools>=0.0.10 in /usr/local/lib/python3.10/dist-packages (from sanic<21.13,>=21.12->rasa[transformers]==3.6.15) (0.6.1)\n",
            "Requirement already satisfied: aiofiles>=0.6.0 in /usr/local/lib/python3.10/dist-packages (from sanic<21.13,>=21.12->rasa[transformers]==3.6.15) (23.2.1)\n",
            "Requirement already satisfied: uvloop>=0.5.3 in /usr/local/lib/python3.10/dist-packages (from sanic<21.13,>=21.12->rasa[transformers]==3.6.15) (0.19.0)\n",
            "Requirement already satisfied: threadpoolctl>=2.0.0 in /usr/local/lib/python3.10/dist-packages (from scikit-learn<1.2,>=0.22->rasa[transformers]==3.6.15) (3.5.0)\n",
            "\u001b[33mWARNING: sentencepiece 0.1.99 does not provide the extra 'sentencepiece'\u001b[0m\u001b[33m\n",
            "\u001b[0mRequirement already satisfied: python-crfsuite>=0.8.3 in /usr/local/lib/python3.10/dist-packages (from sklearn-crfsuite<0.4,>=0.3->rasa[transformers]==3.6.15) (0.9.10)\n",
            "Requirement already satisfied: tabulate in /usr/local/lib/python3.10/dist-packages (from sklearn-crfsuite<0.4,>=0.3->rasa[transformers]==3.6.15) (0.9.0)\n",
            "Requirement already satisfied: greenlet!=0.4.17 in /usr/local/lib/python3.10/dist-packages (from SQLAlchemy<1.5.0,>=1.4.0->rasa[transformers]==3.6.15) (3.0.3)\n",
            "Requirement already satisfied: filelock in /usr/local/lib/python3.10/dist-packages (from transformers<=4.26.0,>=4.13.0->rasa[transformers]==3.6.15) (3.14.0)\n",
            "Requirement already satisfied: huggingface-hub<1.0,>=0.11.0 in /usr/local/lib/python3.10/dist-packages (from transformers<=4.26.0,>=4.13.0->rasa[transformers]==3.6.15) (0.23.3)\n",
            "Requirement already satisfied: tokenizers!=0.11.3,<0.14,>=0.11.1 in /usr/local/lib/python3.10/dist-packages (from transformers<=4.26.0,>=4.13.0->rasa[transformers]==3.6.15) (0.13.3)\n",
            "Requirement already satisfied: aiohttp-retry>=2.8.3 in /usr/local/lib/python3.10/dist-packages (from twilio<8.3,>=6.26->rasa[transformers]==3.6.15) (2.8.3)\n",
            "Requirement already satisfied: future in /usr/local/lib/python3.10/dist-packages (from webexteamssdk<1.7.0,>=1.1.1->rasa[transformers]==3.6.15) (0.18.3)\n",
            "Requirement already satisfied: requests-toolbelt in /usr/local/lib/python3.10/dist-packages (from webexteamssdk<1.7.0,>=1.1.1->rasa[transformers]==3.6.15) (1.0.0)\n",
            "Requirement already satisfied: pamqp==3.2.1 in /usr/local/lib/python3.10/dist-packages (from aiormq~=6.4.0->aio-pika<8.2.4,>=6.7.1->rasa[transformers]==3.6.15) (3.2.1)\n",
            "Requirement already satisfied: pycparser in /usr/local/lib/python3.10/dist-packages (from cffi>=1.12->cryptography>=41.0.2->rasa[transformers]==3.6.15) (2.22)\n",
            "Requirement already satisfied: ml-dtypes>=0.2.0 in /usr/local/lib/python3.10/dist-packages (from jax>=0.3.15->tensorflow==2.12.0->rasa[transformers]==3.6.15) (0.2.0)\n",
            "Requirement already satisfied: locket in /usr/local/lib/python3.10/dist-packages (from partd>=0.3.10->dask==2022.10.2->rasa[transformers]==3.6.15) (1.0.0)\n",
            "Requirement already satisfied: pyasn1<0.7.0,>=0.4.6 in /usr/local/lib/python3.10/dist-packages (from pyasn1-modules>=0.2.1->google-auth<3->rasa[transformers]==3.6.15) (0.6.0)\n",
            "Requirement already satisfied: wsproto in /usr/local/lib/python3.10/dist-packages (from simple-websocket>=0.10.0->python-engineio!=5.0.0,<6,>=4->rasa[transformers]==3.6.15) (1.2.0)\n",
            "Requirement already satisfied: google-auth-oauthlib<1.1,>=0.5 in /usr/local/lib/python3.10/dist-packages (from tensorboard<2.13,>=2.12->tensorflow==2.12.0->rasa[transformers]==3.6.15) (1.0.0)\n",
            "Requirement already satisfied: markdown>=2.6.8 in /usr/local/lib/python3.10/dist-packages (from tensorboard<2.13,>=2.12->tensorflow==2.12.0->rasa[transformers]==3.6.15) (3.6)\n",
            "Requirement already satisfied: tensorboard-data-server<0.8.0,>=0.7.0 in /usr/local/lib/python3.10/dist-packages (from tensorboard<2.13,>=2.12->tensorflow==2.12.0->rasa[transformers]==3.6.15) (0.7.2)\n",
            "Requirement already satisfied: werkzeug>=1.0.1 in /usr/local/lib/python3.10/dist-packages (from tensorboard<2.13,>=2.12->tensorflow==2.12.0->rasa[transformers]==3.6.15) (3.0.3)\n",
            "Requirement already satisfied: requests-oauthlib>=0.7.0 in /usr/local/lib/python3.10/dist-packages (from google-auth-oauthlib<1.1,>=0.5->tensorboard<2.13,>=2.12->tensorflow==2.12.0->rasa[transformers]==3.6.15) (1.3.1)\n",
            "Requirement already satisfied: MarkupSafe>=2.1.1 in /usr/local/lib/python3.10/dist-packages (from werkzeug>=1.0.1->tensorboard<2.13,>=2.12->tensorflow==2.12.0->rasa[transformers]==3.6.15) (2.1.5)\n",
            "Requirement already satisfied: h11<1,>=0.9.0 in /usr/local/lib/python3.10/dist-packages (from wsproto->simple-websocket>=0.10.0->python-engineio!=5.0.0,<6,>=4->rasa[transformers]==3.6.15) (0.14.0)\n",
            "Requirement already satisfied: oauthlib>=3.0.0 in /usr/local/lib/python3.10/dist-packages (from requests-oauthlib>=0.7.0->google-auth-oauthlib<1.1,>=0.5->tensorboard<2.13,>=2.12->tensorflow==2.12.0->rasa[transformers]==3.6.15) (3.2.2)\n",
            "Requirement already satisfied: nest-asyncio==1.5.6 in /usr/local/lib/python3.10/dist-packages (1.5.6)\n",
            "Requirement already satisfied: ipykernel in /usr/local/lib/python3.10/dist-packages (6.29.4)\n",
            "Requirement already satisfied: comm>=0.1.1 in /usr/local/lib/python3.10/dist-packages (from ipykernel) (0.2.2)\n",
            "Requirement already satisfied: debugpy>=1.6.5 in /usr/local/lib/python3.10/dist-packages (from ipykernel) (1.6.6)\n",
            "Requirement already satisfied: ipython>=7.23.1 in /usr/local/lib/python3.10/dist-packages (from ipykernel) (7.34.0)\n",
            "Requirement already satisfied: jupyter-client>=6.1.12 in /usr/local/lib/python3.10/dist-packages (from ipykernel) (6.1.12)\n",
            "Requirement already satisfied: jupyter-core!=5.0.*,>=4.12 in /usr/local/lib/python3.10/dist-packages (from ipykernel) (5.7.2)\n",
            "Requirement already satisfied: matplotlib-inline>=0.1 in /usr/local/lib/python3.10/dist-packages (from ipykernel) (0.1.7)\n",
            "Requirement already satisfied: nest-asyncio in /usr/local/lib/python3.10/dist-packages (from ipykernel) (1.5.6)\n",
            "Requirement already satisfied: packaging in /usr/local/lib/python3.10/dist-packages (from ipykernel) (20.9)\n",
            "Requirement already satisfied: psutil in /usr/local/lib/python3.10/dist-packages (from ipykernel) (5.9.5)\n",
            "Requirement already satisfied: pyzmq>=24 in /usr/local/lib/python3.10/dist-packages (from ipykernel) (24.0.1)\n",
            "Requirement already satisfied: tornado>=6.1 in /usr/local/lib/python3.10/dist-packages (from ipykernel) (6.3.3)\n",
            "Requirement already satisfied: traitlets>=5.4.0 in /usr/local/lib/python3.10/dist-packages (from ipykernel) (5.7.1)\n",
            "Requirement already satisfied: setuptools>=18.5 in /usr/local/lib/python3.10/dist-packages (from ipython>=7.23.1->ipykernel) (67.7.2)\n",
            "Requirement already satisfied: jedi>=0.16 in /usr/local/lib/python3.10/dist-packages (from ipython>=7.23.1->ipykernel) (0.19.1)\n",
            "Requirement already satisfied: decorator in /usr/local/lib/python3.10/dist-packages (from ipython>=7.23.1->ipykernel) (4.4.2)\n",
            "Requirement already satisfied: pickleshare in /usr/local/lib/python3.10/dist-packages (from ipython>=7.23.1->ipykernel) (0.7.5)\n",
            "Requirement already satisfied: prompt-toolkit!=3.0.0,!=3.0.1,<3.1.0,>=2.0.0 in /usr/local/lib/python3.10/dist-packages (from ipython>=7.23.1->ipykernel) (3.0.28)\n",
            "Requirement already satisfied: pygments in /usr/local/lib/python3.10/dist-packages (from ipython>=7.23.1->ipykernel) (2.16.1)\n",
            "Requirement already satisfied: backcall in /usr/local/lib/python3.10/dist-packages (from ipython>=7.23.1->ipykernel) (0.2.0)\n",
            "Requirement already satisfied: pexpect>4.3 in /usr/local/lib/python3.10/dist-packages (from ipython>=7.23.1->ipykernel) (4.9.0)\n",
            "Requirement already satisfied: python-dateutil>=2.1 in /usr/local/lib/python3.10/dist-packages (from jupyter-client>=6.1.12->ipykernel) (2.8.2)\n",
            "Requirement already satisfied: platformdirs>=2.5 in /usr/local/lib/python3.10/dist-packages (from jupyter-core!=5.0.*,>=4.12->ipykernel) (4.2.2)\n",
            "Requirement already satisfied: pyparsing>=2.0.2 in /usr/local/lib/python3.10/dist-packages (from packaging->ipykernel) (3.1.2)\n",
            "Requirement already satisfied: parso<0.9.0,>=0.8.3 in /usr/local/lib/python3.10/dist-packages (from jedi>=0.16->ipython>=7.23.1->ipykernel) (0.8.4)\n",
            "Requirement already satisfied: ptyprocess>=0.5 in /usr/local/lib/python3.10/dist-packages (from pexpect>4.3->ipython>=7.23.1->ipykernel) (0.7.0)\n",
            "Requirement already satisfied: wcwidth in /usr/local/lib/python3.10/dist-packages (from prompt-toolkit!=3.0.0,!=3.0.1,<3.1.0,>=2.0.0->ipython>=7.23.1->ipykernel) (0.2.13)\n",
            "Requirement already satisfied: six>=1.5 in /usr/local/lib/python3.10/dist-packages (from python-dateutil>=2.1->jupyter-client>=6.1.12->ipykernel) (1.16.0)\n"
          ]
        }
      ]
    },
    {
      "cell_type": "code",
      "source": [
        "train_data = {\n",
        "    \"greet-hi\": [\n",
        "        \"Hi\",\n",
        "        \"Hoooo\",\n",
        "        \"Hello buddy\",\n",
        "        \"Salut\",\n",
        "        \"Hey\",\n",
        "        \"Good morning\",\n",
        "        \"Bonsoir\",\n",
        "        \"Salut mon ami\",\n",
        "    ],\n",
        "    \"greet-who_are_you\": [\n",
        "        \"qui êtes-vous\",\n",
        "        \"who are you\",\n",
        "        \"how can you help me\",\n",
        "        \"comment pouvez vous m'aider\",\n",
        "        \"why do I need you\",\n",
        "        \"pourquoi j'ai besoin de toi\",\n",
        "        \"help please\",\n",
        "        \"Aidez-moi, s'il vous plaît\",\n",
        "        \"I can not understand you\",\n",
        "        \"je ne te comprends pas\"\n",
        "    ],\n",
        "    \"greet-good_bye\": [\n",
        "        \"good bye\",\n",
        "        \"au revoir\",\n",
        "        \"See you later\",\n",
        "        \"A plus tard\",\n",
        "        \"stop\",\n",
        "        \"arrêter\",\n",
        "        \"exit\",\n",
        "        \"sortir\"\n",
        "    ],\n",
        "\n",
        "    \"matches-team_next_match\": [\n",
        "        \"when will be the matches of [Liverpool](team_name)\",\n",
        "        \"quand auront lieu les matchs de [Liverpool](team_name)\",\n",
        "        \"when will be the matches of [Aston Villa](team_name)\",\n",
        "        \"quand auront lieu les matchs de [Aston Villa](team_name)\",\n",
        "        \"[man city](team_name) matches\",\n",
        "        \"[Arsenal](team_name) matches\",\n",
        "        \"[Arsenal](team_name) matchs\",\n",
        "        \"[man city](team_name) matchs\",\n",
        "        \"what the calendar of [chelsea](team_name) matches\",\n",
        "        \"à quoi correspond le calendrier de [chelsea](team_name)\",\n",
        "        \"Will [Liverpool](team_name) play any matches soon\",\n",
        "        \"Est-ce que [Liverpool](team_name) jouera bientôt des matchs\",\n",
        "        \"Will [Liverpool](team_name) play any matches next days\",\n",
        "        \"Est-ce que [Liverpool](team_name) jouera des matchs les jours prochains\",\n",
        "        \"upcoming games for [Manchester United](team_name)\",\n",
        "        \"prochains matchs de [Tottenham Hotspur](team_name)\",\n",
        "        \"[Barcelona](team_name) match schedule\",\n",
        "        \"[Real Madrid](team_name) fixtures\",\n",
        "        \"when are the matches of [Bayern Munich](team_name)\",\n",
        "        \"calendrier des matchs pour [Paris Saint-Germain](team_name)\",\n",
        "        \"any upcoming fixtures for [Juventus](team_name)\",\n",
        "        \"próximos partidos de [Atletico Madrid](team_name)\",\n",
        "        \"which teams will [AC Milan](team_name) face next\",\n",
        "        \"quels sont les prochains matchs de [Borussia Dortmund](team_name)\"\n",
        "     ],\n",
        "\n",
        "    \"matches-match_time\": [\n",
        "        \"when [liverpool](team_name) will play with [man city](team_name)\",\n",
        "        \"quand [liverpool](team_name) jouera avec [man city](team_name)\",\n",
        "        \"[crystal place](team_name) vs [chelsea](team_name)\",\n",
        "        \"[Bournemouth](team_name) vs [Brentford](team_name)\",\n",
        "        \"[Bournemouth](team_name) vs [Brentford](team_name)\",\n",
        "        \"[Norwich City](team_name) vs [Newcastle United](team_name)\",\n",
        "        \"[Southampton](team_name) vs [West Ham United](team_name)\",\n",
        "        \"tell me the time of [Everton](team_name) vs [Leicester City](team_name)\",\n",
        "        \"tell me the time of [Wolverhampton](team_name) vs [Chelsea](team_name)\",\n",
        "        \"will [Manchester United](team_name) play with [chelsea](team_name)\",\n",
        "        \"will [Brentford](team_name) play with [Bournemouth](team_name)\",\n",
        "        \"Dis-moi le temps de [Everton](team_name) contre [Leicester City](team_name)\",\n",
        "        \"dis-moi le temps de [Wolverhampton](team_name) vs [Chelsea](team_name)\",\n",
        "        \"est-ce que [Manchester United](team_name) jouera avec [chelsea](team_name)\",\n",
        "        \"est-ce que [Brentford](team_name) jouera avec [Bournemouth](team_name)\",\n",
        "     ],\n",
        "\n",
        "    \"matches-match_result\": [\n",
        "        \"what is the score of [Brentford](team_name) match\",\n",
        "        \"what is the score of [Wolverhampton](team_name) match\",\n",
        "        \"score of [Everton](team_name) match\",\n",
        "        \"who won in [Norwich City](team_name) vs [West Ham United](team_name) match\",\n",
        "        \"who won in [Bournemouth](team_name) vs [West Ham United](team_name) match\",\n",
        "        \"who won in [Liverpool](team_name) vs [Newcastle United](team_name) match\",\n",
        "        \"did [Liverpool](team_name) defeted [man city](team_name)\",\n",
        "        \"[Liverpool](team_name) and [West Ham](team_name) result\",\n",
        "        \"[Chelsea](team_name) and [Norwich](team_name) final result\",\n",
        "        \"quel est le score du match [Brentford](team_name)\",\n",
        "        \"quel est le score du match [Wolverhampton](team_name)\",\n",
        "        \"score du match [Everton](team_name)\",\n",
        "        \"qui a gagné le match [Norwich City](team_name) contre [Norwich City](team_name)\",\n",
        "        \"qui a gagné le match [Bournemouth](team_name) contre [West Ham United](team_name)\",\n",
        "        \"qui a gagné le match [Liverpool](team_name) contre [Newcastle United](team_name)\",\n",
        "        \"est-ce que [Liverpool](team_name) a vaincu [man city](team_name)\",\n",
        "        \"Résultat de [Liverpool](team_name) et [West Ham](team_name)\",\n",
        "        \"Résultat final de [Chelsea](team_name) et [Norwich](team_name)\",\n",
        "     ],\n",
        "}"
      ],
      "metadata": {
        "id": "MitLNtjiRHBJ"
      },
      "execution_count": null,
      "outputs": []
    },
    {
      "cell_type": "code",
      "source": [
        "team_name_lookup = [\n",
        "    'Nottingham Forest',\n",
        "    'Manchester United',\n",
        "    'Blackpool',\n",
        "    'Birmingham City',\n",
        "    'Chelsea',\n",
        "    'West Ham',\n",
        "    'Wolverhampton Wanderers',\n",
        "    'Huddersfield Town U21',\n",
        "    'Charlton Athletic U21',\n",
        "    'QPR',\n",
        "    'Fulham U21',\n",
        "    'Blackburn Rovers',\n",
        "    'Newcastle United',\n",
        "    'SHU',\n",
        "    'Nottingham',\n",
        "    'Bournemouth',\n",
        "    'West Ham United',\n",
        "    'West Brom',\n",
        "    'Sheffield',\n",
        "    'Peterborough United U21',\n",
        "    'PET',\n",
        "    'Leeds',\n",
        "    'Arsenal',\n",
        "    'West Bromwich Albion U21',\n",
        "    'Derby County U21',\n",
        "    'Liverpool',\n",
        "    'Brentford',\n",
        "    'SCFC',\n",
        "    'Stoke City U21',\n",
        "    'Leeds United U21',\n",
        "    'Leicester City',\n",
        "    'Fulham',\n",
        "    'Wolverhampton',\n",
        "    'Charlton',\n",
        "    'NEW',\n",
        "    'Huddersfield Town',\n",
        "    'LEE',\n",
        "    'Newcastle United U21',\n",
        "    'Wigan Athletic U21',\n",
        "    'Sheffield United U21',\n",
        "    'man city',\n",
        "    'Bolton Wanderers',\n",
        "    'WOL',\n",
        "    'WBA',\n",
        "    'Stoke',\n",
        "    'Bradford City',\n",
        "    'Barnsley',\n",
        "    'Everton',\n",
        "    'Arsenal U21',\n",
        "    'FUL',\n",
        "    'Southampton',\n",
        "    'Aston Villa',\n",
        "    'Manchester City',\n",
        "    'WES',\n",
        "    'Leeds United',\n",
        "    'Tottenham Hotspur',\n",
        "    'WIG',\n",
        "    'Wolverhampton U21',\n",
        "    'MIB',\n",
        "    'Queens Park Rangers U21',\n",
        "    'Derby',\n",
        "    'Tottenham',\n",
        "    'ARS',\n",
        "    'West Ham United U21',\n",
        "    'Peterborough Utd',\n",
        "    'Wigan',\n",
        "    'DCO',\n",
        "    'Burnley',\n",
        "    'Middlesbrough',\n",
        "    'Newcastle',\n",
        "    'HTO',\n",
        "    'Middlesbrough U21',\n",
        "    'CHA',\n",
        "    'Crystal Palace'\n",
        "]"
      ],
      "metadata": {
        "id": "lN5UkBYLS8Kr"
      },
      "execution_count": null,
      "outputs": []
    },
    {
      "cell_type": "code",
      "source": [
        "nlu_data = []\n",
        "nlu_data.append('version: \"3.1\"')\n",
        "nlu_data.append('nlu:')\n",
        "\n",
        "for intent_name, examples in train_data.items():\n",
        "    nlu_data.append(f'- intent: {intent_name}')\n",
        "    nlu_data.append('  examples: |')\n",
        "\n",
        "    for example in examples:\n",
        "        if example.strip() == \"\":\n",
        "            continue\n",
        "\n",
        "        nlu_data.append(f'    - {example}')\n",
        "\n",
        "nlu_data.append('- lookup: team_name')\n",
        "nlu_data.append('  examples: |')\n",
        "\n",
        "for team_name in team_name_lookup:\n",
        "    nlu_data.append(f'    - {team_name}')"
      ],
      "metadata": {
        "id": "JAtog6U1Tm4O"
      },
      "execution_count": null,
      "outputs": []
    },
    {
      "cell_type": "code",
      "source": [
        "with open('./data.yml', 'w') as dest:\n",
        "    dest.write( \"\\n\".join( nlu_data ) )"
      ],
      "metadata": {
        "id": "BvjHklNjToII"
      },
      "execution_count": null,
      "outputs": []
    },
    {
      "cell_type": "code",
      "source": [
        "domain_data = ['version: \"3.1\"','intents:']\n",
        "for intent_name, examples in train_data.items():\n",
        "    domain_data.append(f'  - {intent_name}')\n",
        "\n",
        "with open('./domain.yml', 'w') as dest:\n",
        "    dest.write( \"\\n\".join( domain_data ) )"
      ],
      "metadata": {
        "id": "gjgSpEe7Ttuf"
      },
      "execution_count": null,
      "outputs": []
    },
    {
      "cell_type": "code",
      "source": [
        "config = \"\"\"\n",
        "# The config recipe.\n",
        "# https://rasa.com/docs/rasa/model-configuration/\n",
        "recipe: default.v1\n",
        "language: en\n",
        "pipeline:\n",
        "- name: \"WhitespaceTokenizer\"\n",
        "- name: LanguageModelFeaturizer\n",
        "  model_weights: \"rasa/LaBSE\"\n",
        "  model_name: \"bert\"\n",
        "- name: CountVectorsFeaturizer\n",
        "  analyzer: char_wb\n",
        "  min_ngram: 1\n",
        "  max_ngram: 4\n",
        "- name: CountVectorsFeaturizer\n",
        "- name: DIETClassifier\n",
        "  epochs: 75\n",
        "  num_transformer_layers: 4\n",
        "  transformer_size: 256\n",
        "  use_masked_language_model: True\n",
        "  drop_rate: 0.05\n",
        "  weight_sparsity: 0.7\n",
        "  batch_size: [512, 512]\n",
        "  embedding_dimension: 60\n",
        "  hidden_layer_sizes:\n",
        "    text: [256, 128]\n",
        "\"\"\".strip()\n",
        "\n",
        "with open(f'./config.yml', 'w') as dest:\n",
        "    dest.write( config )"
      ],
      "metadata": {
        "id": "p5R9gxfcTwQr"
      },
      "execution_count": null,
      "outputs": []
    },
    {
      "cell_type": "code",
      "source": [
        "!rasa train --data ./data.yml --config ./config.yml --domain ./domain.yml --out /content/models"
      ],
      "metadata": {
        "colab": {
          "base_uri": "https://localhost:8080/"
        },
        "id": "OTtqDh7ST4Ul",
        "outputId": "493b4efe-7aea-4982-c095-c51e4e8c117d"
      },
      "execution_count": null,
      "outputs": [
        {
          "output_type": "stream",
          "name": "stdout",
          "text": [
            "/usr/local/lib/python3.10/dist-packages/rasa/core/tracker_store.py:1044: MovedIn20Warning: \u001b[31mDeprecated API features detected! These feature(s) are not compatible with SQLAlchemy 2.0. \u001b[32mTo prevent incompatible upgrades prior to updating applications, ensure requirements files are pinned to \"sqlalchemy<2.0\". \u001b[36mSet environment variable SQLALCHEMY_WARN_20=1 to show all deprecation warnings.  Set environment variable SQLALCHEMY_SILENCE_UBER_WARNING=1 to silence this message.\u001b[0m (Background on SQLAlchemy 2.0 at: https://sqlalche.me/e/b8d9)\n",
            "  Base: DeclarativeMeta = declarative_base()\n",
            "\u001b(0lqqqqqqqqqqqqqqqqqqqqqqqqqqqqqqqqqqqqqqqqqqqqqqqqqqqqqqqqqqqqqqqqqqqqqqqqqqqqqqqqk\u001b(B\n",
            "\u001b(0x\u001b(B Rasa Open Source reports anonymous usage telemetry to help improve the product \u001b(0x\u001b(B\n",
            "\u001b(0x\u001b(B for all its users.                                                             \u001b(0x\u001b(B\n",
            "\u001b(0x\u001b(B                                                                                \u001b(0x\u001b(B\n",
            "\u001b(0x\u001b(B If you'd like to opt-out, you can use `rasa telemetry disable`.                \u001b(0x\u001b(B\n",
            "\u001b(0x\u001b(B To learn more, check out https://rasa.com/docs/rasa/telemetry/telemetry.       \u001b(0x\u001b(B\n",
            "\u001b(0mqqqqqqqqqqqqqqqqqqqqqqqqqqqqqqqqqqqqqqqqqqqqqqqqqqqqqqqqqqqqqqqqqqqqqqqqqqqqqqqqj\u001b(B\n",
            "/usr/local/lib/python3.10/dist-packages/pkg_resources/__init__.py:121: DeprecationWarning: pkg_resources is deprecated as an API\n",
            "  warnings.warn(\"pkg_resources is deprecated as an API\", DeprecationWarning)\n",
            "/usr/local/lib/python3.10/dist-packages/pkg_resources/__init__.py:2870: DeprecationWarning: Deprecated call to `pkg_resources.declare_namespace('google')`.\n",
            "Implementing implicit namespace packages (as specified in PEP 420) is preferred to `pkg_resources.declare_namespace`. See https://setuptools.pypa.io/en/latest/references/keywords.html#keyword-namespace-packages\n",
            "  declare_namespace(pkg)\n",
            "/usr/local/lib/python3.10/dist-packages/pkg_resources/__init__.py:2870: DeprecationWarning: Deprecated call to `pkg_resources.declare_namespace('google.cloud')`.\n",
            "Implementing implicit namespace packages (as specified in PEP 420) is preferred to `pkg_resources.declare_namespace`. See https://setuptools.pypa.io/en/latest/references/keywords.html#keyword-namespace-packages\n",
            "  declare_namespace(pkg)\n",
            "/usr/local/lib/python3.10/dist-packages/pkg_resources/__init__.py:2870: DeprecationWarning: Deprecated call to `pkg_resources.declare_namespace('mpl_toolkits')`.\n",
            "Implementing implicit namespace packages (as specified in PEP 420) is preferred to `pkg_resources.declare_namespace`. See https://setuptools.pypa.io/en/latest/references/keywords.html#keyword-namespace-packages\n",
            "  declare_namespace(pkg)\n",
            "/usr/local/lib/python3.10/dist-packages/pkg_resources/__init__.py:2870: DeprecationWarning: Deprecated call to `pkg_resources.declare_namespace('ruamel')`.\n",
            "Implementing implicit namespace packages (as specified in PEP 420) is preferred to `pkg_resources.declare_namespace`. See https://setuptools.pypa.io/en/latest/references/keywords.html#keyword-namespace-packages\n",
            "  declare_namespace(pkg)\n",
            "/usr/local/lib/python3.10/dist-packages/pkg_resources/__init__.py:2870: DeprecationWarning: Deprecated call to `pkg_resources.declare_namespace('sphinxcontrib')`.\n",
            "Implementing implicit namespace packages (as specified in PEP 420) is preferred to `pkg_resources.declare_namespace`. See https://setuptools.pypa.io/en/latest/references/keywords.html#keyword-namespace-packages\n",
            "  declare_namespace(pkg)\n",
            "2024-06-15 10:03:54 \u001b[1;30mINFO    \u001b[0m \u001b[34mrasa.cli.train\u001b[0m  - Started validating domain and training data...\n",
            "2024-06-15 10:04:00 \u001b[1;30mINFO    \u001b[0m \u001b[34mnumexpr.utils\u001b[0m  - NumExpr defaulting to 2 threads.\n",
            "2024-06-15 10:04:02 \u001b[1;30mINFO    \u001b[0m \u001b[34mrasa.validator\u001b[0m  - Validating intents...\n",
            "\u001b[93m/usr/local/lib/python3.10/dist-packages/rasa/shared/utils/io.py:99: UserWarning: The intent 'greet-good_bye' is not used in any story or rule.\n",
            "\u001b[0m\u001b[93m/usr/local/lib/python3.10/dist-packages/rasa/shared/utils/io.py:99: UserWarning: The intent 'greet-hi' is not used in any story or rule.\n",
            "\u001b[0m\u001b[93m/usr/local/lib/python3.10/dist-packages/rasa/shared/utils/io.py:99: UserWarning: The intent 'greet-who_are_you' is not used in any story or rule.\n",
            "\u001b[0m\u001b[93m/usr/local/lib/python3.10/dist-packages/rasa/shared/utils/io.py:99: UserWarning: The intent 'matches-match_result' is not used in any story or rule.\n",
            "\u001b[0m\u001b[93m/usr/local/lib/python3.10/dist-packages/rasa/shared/utils/io.py:99: UserWarning: The intent 'matches-match_time' is not used in any story or rule.\n",
            "\u001b[0m\u001b[93m/usr/local/lib/python3.10/dist-packages/rasa/shared/utils/io.py:99: UserWarning: The intent 'matches-team_next_match' is not used in any story or rule.\n",
            "\u001b[0m2024-06-15 10:04:02 \u001b[1;30mINFO    \u001b[0m \u001b[34mrasa.validator\u001b[0m  - Validating uniqueness of intents and stories...\n",
            "2024-06-15 10:04:02 \u001b[1;30mINFO    \u001b[0m \u001b[34mrasa.validator\u001b[0m  - Validating utterances...\n",
            "2024-06-15 10:04:02 \u001b[1;30mINFO    \u001b[0m \u001b[34mrasa.validator\u001b[0m  - Story structure validation...\n",
            "2024-06-15 10:04:02 \u001b[1;30mINFO    \u001b[0m \u001b[34mrasa.core.training.story_conflict\u001b[0m  - Considering all preceding turns for conflict analysis.\n",
            "2024-06-15 10:04:02 \u001b[1;30mINFO    \u001b[0m \u001b[34mrasa.validator\u001b[0m  - No story structure conflicts found.\n",
            "\u001b[93mNo stories present. Just a Rasa NLU model will be trained.\u001b[0m\n",
            "\u001b[93m/usr/local/lib/python3.10/dist-packages/rasa/shared/utils/io.py:99: UserWarning: You have defined training data consisting of lookup tables, but your NLU configuration does not include a featurizer or an entity extractor using the lookup table.To use the lookup tables, include either a 'RegexFeaturizer' or a 'RegexEntityExtractor' in your configuration.\n",
            "  More info at https://rasa.com/docs/rasa/components\n",
            "\u001b[0m/usr/local/lib/python3.10/dist-packages/huggingface_hub/file_download.py:1132: FutureWarning: `resume_download` is deprecated and will be removed in version 1.0.0. Downloads always resume when possible. If you want to force a new download, use `force_download=True`.\n",
            "  warnings.warn(\n",
            "vocab.txt: 100% 5.22M/5.22M [00:00<00:00, 31.9MB/s]\n",
            "special_tokens_map.json: 100% 112/112 [00:00<00:00, 613kB/s]\n",
            "tokenizer_config.json: 100% 277/277 [00:00<00:00, 839kB/s]\n",
            "config.json: 100% 654/654 [00:00<00:00, 3.61MB/s]\n",
            "tf_model.h5: 100% 1.88G/1.88G [00:44<00:00, 42.1MB/s]\n",
            "All model checkpoint layers were used when initializing TFBertModel.\n",
            "\n",
            "All the layers of TFBertModel were initialized from the model checkpoint at rasa/LaBSE.\n",
            "If your task is similar to the task the model of the checkpoint was trained on, you can already use TFBertModel for predictions without further training.\n",
            "2024-06-15 10:05:31 \u001b[1;30mINFO    \u001b[0m \u001b[34mrasa.engine.training.hooks\u001b[0m  - Starting to train component 'CountVectorsFeaturizer'.\n",
            "2024-06-15 10:05:31 \u001b[1;30mINFO    \u001b[0m \u001b[34mrasa.nlu.featurizers.sparse_featurizer.count_vectors_featurizer\u001b[0m  - 1484 vocabulary items were created for text attribute.\n",
            "2024-06-15 10:05:31 \u001b[1;30mINFO    \u001b[0m \u001b[34mrasa.engine.training.hooks\u001b[0m  - Finished training component 'CountVectorsFeaturizer'.\n",
            "2024-06-15 10:05:32 \u001b[1;30mINFO    \u001b[0m \u001b[34mrasa.engine.training.hooks\u001b[0m  - Starting to train component 'CountVectorsFeaturizer'.\n",
            "2024-06-15 10:05:32 \u001b[1;30mINFO    \u001b[0m \u001b[34mrasa.nlu.featurizers.sparse_featurizer.count_vectors_featurizer\u001b[0m  - 165 vocabulary items were created for text attribute.\n",
            "2024-06-15 10:05:32 \u001b[1;30mINFO    \u001b[0m \u001b[34mrasa.engine.training.hooks\u001b[0m  - Finished training component 'CountVectorsFeaturizer'.\n",
            "2024-06-15 10:05:32 \u001b[1;30mINFO    \u001b[0m \u001b[34mrasa.engine.training.hooks\u001b[0m  - Starting to train component 'DIETClassifier'.\n",
            "\u001b[93m/usr/local/lib/python3.10/dist-packages/rasa/utils/train_utils.py:530: UserWarning: constrain_similarities is set to `False`. It is recommended to set it to `True` when using cross-entropy loss.\n",
            "  rasa.shared.utils.io.raise_warning(\n",
            "Epochs: 100% 75/75 [01:37<00:00,  1.30s/it, t_loss=4.76, m_acc=0.779, i_acc=1, e_f1=0.883]\n",
            "2024-06-15 10:07:10 \u001b[1;30mINFO    \u001b[0m \u001b[34mrasa.engine.training.hooks\u001b[0m  - Finished training component 'DIETClassifier'.\n",
            "\u001b[92mYour Rasa model is trained and saved at '/content/models/nlu-20240615-100404-maximum-canyon.tar.gz'.\u001b[0m\n"
          ]
        }
      ]
    },
    {
      "cell_type": "code",
      "source": [
        "# /content/models/nlu-20240615-100404-maximum-canyon.tar.gz"
      ],
      "metadata": {
        "id": "rPoWp0-iT5GT"
      },
      "execution_count": null,
      "outputs": []
    },
    {
      "cell_type": "code",
      "source": [
        "import asyncio\n",
        "from rasa.core.agent import Agent\n",
        "\n",
        "import nest_asyncio\n",
        "nest_asyncio.apply()"
      ],
      "metadata": {
        "colab": {
          "base_uri": "https://localhost:8080/"
        },
        "id": "VTshSBjST8Hy",
        "outputId": "833aef00-a8ca-4c87-b250-fd7aacfbf2b6"
      },
      "execution_count": null,
      "outputs": [
        {
          "output_type": "stream",
          "name": "stderr",
          "text": [
            "2024-06-15 10:09:33.221289: I tensorflow/tsl/cuda/cudart_stub.cc:28] Could not find cuda drivers on your machine, GPU will not be used.\n",
            "2024-06-15 10:09:33.297324: I tensorflow/tsl/cuda/cudart_stub.cc:28] Could not find cuda drivers on your machine, GPU will not be used.\n",
            "2024-06-15 10:09:33.299405: I tensorflow/core/platform/cpu_feature_guard.cc:182] This TensorFlow binary is optimized to use available CPU instructions in performance-critical operations.\n",
            "To enable the following instructions: AVX2 FMA, in other operations, rebuild TensorFlow with the appropriate compiler flags.\n",
            "2024-06-15 10:09:35.024129: W tensorflow/compiler/tf2tensorrt/utils/py_utils.cc:38] TF-TRT Warning: Could not find TensorRT\n",
            "/usr/local/lib/python3.10/dist-packages/rasa/core/tracker_store.py:1044: MovedIn20Warning: Deprecated API features detected! These feature(s) are not compatible with SQLAlchemy 2.0. To prevent incompatible upgrades prior to updating applications, ensure requirements files are pinned to \"sqlalchemy<2.0\". Set environment variable SQLALCHEMY_WARN_20=1 to show all deprecation warnings.  Set environment variable SQLALCHEMY_SILENCE_UBER_WARNING=1 to silence this message. (Background on SQLAlchemy 2.0 at: https://sqlalche.me/e/b8d9)\n",
            "  Base: DeclarativeMeta = declarative_base()\n"
          ]
        }
      ]
    },
    {
      "cell_type": "code",
      "source": [
        "modle_cp = \"/content/models/nlu-20240615-100404-maximum-canyon.tar.gz\""
      ],
      "metadata": {
        "id": "GHuEq-tzUAe8"
      },
      "execution_count": null,
      "outputs": []
    },
    {
      "cell_type": "code",
      "source": [
        "model = Agent.load(model_path=modle_cp)"
      ],
      "metadata": {
        "colab": {
          "base_uri": "https://localhost:8080/"
        },
        "id": "95DtNCliUBL9",
        "outputId": "34b62fea-58ad-418f-9086-d4a8ce997e18"
      },
      "execution_count": null,
      "outputs": [
        {
          "output_type": "stream",
          "name": "stderr",
          "text": [
            "/usr/local/lib/python3.10/dist-packages/huggingface_hub/file_download.py:1132: FutureWarning: `resume_download` is deprecated and will be removed in version 1.0.0. Downloads always resume when possible. If you want to force a new download, use `force_download=True`.\n",
            "  warnings.warn(\n",
            "/usr/local/lib/python3.10/dist-packages/huggingface_hub/utils/_token.py:89: UserWarning: \n",
            "The secret `HF_TOKEN` does not exist in your Colab secrets.\n",
            "To authenticate with the Hugging Face Hub, create a token in your settings tab (https://huggingface.co/settings/tokens), set it as secret in your Google Colab and restart your session.\n",
            "You will be able to reuse this secret in all of your notebooks.\n",
            "Please note that authentication is recommended but still optional to access public models or datasets.\n",
            "  warnings.warn(\n",
            "2024-06-15 10:09:58.929484: W tensorflow/tsl/framework/cpu_allocator_impl.cc:83] Allocation of 1539542016 exceeds 10% of free system memory.\n",
            "2024-06-15 10:10:07.754655: W tensorflow/tsl/framework/cpu_allocator_impl.cc:83] Allocation of 1539542016 exceeds 10% of free system memory.\n",
            "2024-06-15 10:10:09.093317: W tensorflow/tsl/framework/cpu_allocator_impl.cc:83] Allocation of 1539542016 exceeds 10% of free system memory.\n",
            "2024-06-15 10:10:15.683310: W tensorflow/tsl/framework/cpu_allocator_impl.cc:83] Allocation of 1539542016 exceeds 10% of free system memory.\n",
            "2024-06-15 10:10:16.875461: W tensorflow/tsl/framework/cpu_allocator_impl.cc:83] Allocation of 1539542016 exceeds 10% of free system memory.\n",
            "All model checkpoint layers were used when initializing TFBertModel.\n",
            "\n",
            "All the layers of TFBertModel were initialized from the model checkpoint at rasa/LaBSE.\n",
            "If your task is similar to the task the model of the checkpoint was trained on, you can already use TFBertModel for predictions without further training.\n",
            "2024-06-15 10:10:19.378405: I tensorflow/core/common_runtime/executor.cc:1197] [/device:CPU:0] (DEBUG INFO) Executor start aborting (this does not indicate an error and you can ignore this message): INVALID_ARGUMENT: You must feed a value for placeholder tensor 'Placeholder/_0' with dtype int32\n",
            "\t [[{{node Placeholder/_0}}]]\n",
            "/usr/lib/python3.10/random.py:370: DeprecationWarning: non-integer arguments to randrange() have been deprecated since Python 3.10 and will be removed in a subsequent version\n",
            "  return self.randrange(a, b+1)\n",
            "2024-06-15 10:11:11.502341: W tensorflow/core/common_runtime/type_inference.cc:339] Type inference failed. This indicates an invalid graph that escaped type checking. Error message: INVALID_ARGUMENT: expected compatible input types, but input 1:\n",
            "type_id: TFT_OPTIONAL\n",
            "args {\n",
            "  type_id: TFT_PRODUCT\n",
            "  args {\n",
            "    type_id: TFT_TENSOR\n",
            "    args {\n",
            "      type_id: TFT_FLOAT\n",
            "    }\n",
            "  }\n",
            "}\n",
            " is neither a subtype nor a supertype of the combined inputs preceding it:\n",
            "type_id: TFT_OPTIONAL\n",
            "args {\n",
            "  type_id: TFT_PRODUCT\n",
            "  args {\n",
            "    type_id: TFT_TENSOR\n",
            "    args {\n",
            "      type_id: TFT_BOOL\n",
            "    }\n",
            "  }\n",
            "}\n",
            "\n",
            "\twhile inferring type of node 'cond_1/PartitionedCall/cond_1_11/output/_323'\n",
            "\u001b[93m/usr/local/lib/python3.10/dist-packages/rasa/utils/train_utils.py:530: UserWarning: constrain_similarities is set to `False`. It is recommended to set it to `True` when using cross-entropy loss.\n",
            "  rasa.shared.utils.io.raise_warning(\n",
            "\u001b[0m"
          ]
        }
      ]
    },
    {
      "cell_type": "code",
      "source": [
        "message = \"what is the result of liverpool against aston vila?\"\n",
        "\n",
        "pred = asyncio.run(\n",
        "    model.parse_message(message_data=message)\n",
        ")"
      ],
      "metadata": {
        "colab": {
          "base_uri": "https://localhost:8080/"
        },
        "id": "3xof_doGUBOP",
        "outputId": "acf81538-1c93-4b24-f13a-68974dd23ab9"
      },
      "execution_count": null,
      "outputs": [
        {
          "output_type": "stream",
          "name": "stdout",
          "text": [
            "\u001b[2m2024-06-15 10:12:08\u001b[0m [\u001b[32m\u001b[1mdebug    \u001b[0m] \u001b[1mprocessor.message.parse       \u001b[0m \u001b[36mparse_data_entities\u001b[0m=\u001b[35m[{'entity': 'team_name', 'start': 22, 'end': 31, 'confidence_entity': 0.9692032337188721, 'value': 'liverpool', 'extractor': 'DIETClassifier'}, {'entity': 'team_name', 'start': 40, 'end': 50, 'confidence_entity': 0.5093119740486145, 'value': 'aston vila', 'extractor': 'DIETClassifier'}]\u001b[0m \u001b[36mparse_data_intent\u001b[0m=\u001b[35m{'name': 'matches-match_result', 'confidence': 0.9985895752906799}\u001b[0m \u001b[36mparse_data_text\u001b[0m=\u001b[35mwhat is the result of liverpool against aston vila?\u001b[0m\n"
          ]
        }
      ]
    },
    {
      "cell_type": "code",
      "source": [
        "from rasa.core.agent import Agent\n",
        "\n",
        "from functools import lru_cache\n",
        "import os\n",
        "\n",
        "@lru_cache(maxsize=None)\n",
        "def load_rasa_model():\n",
        "    model_path = os.getenv('model_path', '')\n",
        "\n",
        "    if model_path.strip() == \"\":\n",
        "        return False\n",
        "\n",
        "    model_path = \"./models/\" + model_path\n",
        "\n",
        "\n",
        "    print(model_path)\n",
        "    if not os.path.exists(model_path):\n",
        "        return False\n",
        "\n",
        "    return Agent.load(model_path = model_path)\n",
        "\n",
        "\n",
        "load_rasa_model()"
      ],
      "metadata": {
        "colab": {
          "base_uri": "https://localhost:8080/"
        },
        "id": "0GYi6ONiy-kC",
        "outputId": "594572d5-862f-44aa-a0ff-cb4e07630e31"
      },
      "execution_count": null,
      "outputs": [
        {
          "output_type": "execute_result",
          "data": {
            "text/plain": [
              "False"
            ]
          },
          "metadata": {},
          "execution_count": 10
        }
      ]
    },
    {
      "cell_type": "code",
      "source": [
        "pred"
      ],
      "metadata": {
        "colab": {
          "base_uri": "https://localhost:8080/"
        },
        "id": "AiqiiyZSUBQa",
        "outputId": "8a3e2355-c90c-4754-e78d-bad964770778"
      },
      "execution_count": null,
      "outputs": [
        {
          "output_type": "execute_result",
          "data": {
            "text/plain": [
              "{'text': 'what is the result of liverpool against aston vila?',\n",
              " 'intent': {'name': 'matches-match_result', 'confidence': 0.9985895752906799},\n",
              " 'entities': [{'entity': 'team_name',\n",
              "   'start': 22,\n",
              "   'end': 31,\n",
              "   'confidence_entity': 0.9692032337188721,\n",
              "   'value': 'liverpool',\n",
              "   'extractor': 'DIETClassifier'},\n",
              "  {'entity': 'team_name',\n",
              "   'start': 40,\n",
              "   'end': 50,\n",
              "   'confidence_entity': 0.5093119740486145,\n",
              "   'value': 'aston vila',\n",
              "   'extractor': 'DIETClassifier'}],\n",
              " 'text_tokens': [(0, 4),\n",
              "  (5, 7),\n",
              "  (8, 11),\n",
              "  (12, 18),\n",
              "  (19, 21),\n",
              "  (22, 31),\n",
              "  (32, 39),\n",
              "  (40, 45),\n",
              "  (46, 50)],\n",
              " 'intent_ranking': [{'name': 'matches-match_result',\n",
              "   'confidence': 0.9985895752906799},\n",
              "  {'name': 'matches-team_next_match', 'confidence': 0.001403820002451539},\n",
              "  {'name': 'matches-match_time', 'confidence': 5.741067980125081e-06},\n",
              "  {'name': 'greet-who_are_you', 'confidence': 6.917310315657232e-07},\n",
              "  {'name': 'greet-hi', 'confidence': 6.568577504140194e-08},\n",
              "  {'name': 'greet-good_bye', 'confidence': 6.395388396640556e-08}]}"
            ]
          },
          "metadata": {},
          "execution_count": 8
        }
      ]
    },
    {
      "cell_type": "code",
      "source": [],
      "metadata": {
        "id": "-OzpW2hmUBTz",
        "colab": {
          "base_uri": "https://localhost:8080/"
        },
        "outputId": "d327030e-3335-406c-e436-8285503e878f"
      },
      "execution_count": null,
      "outputs": [
        {
          "output_type": "stream",
          "name": "stderr",
          "text": [
            "Some weights of BertForSequenceClassification were not initialized from the model checkpoint at bert-base-uncased and are newly initialized: ['classifier.bias', 'classifier.weight']\n",
            "You should probably TRAIN this model on a down-stream task to be able to use it for predictions and inference.\n"
          ]
        },
        {
          "output_type": "stream",
          "name": "stdout",
          "text": [
            "Epoch 1/3, Training Loss: 46.82562255859375, Validation Loss: 114.90737457275391\n",
            "Epoch 2/3, Training Loss: 41.07817840576172, Validation Loss: 100.03532409667969\n",
            "Epoch 3/3, Training Loss: 17.429861068725586, Validation Loss: 85.04848556518554\n"
          ]
        }
      ]
    },
    {
      "cell_type": "code",
      "source": [
        "import time\n",
        "\n",
        "def print_lyrics():\n",
        "    # Define the lyrics\n",
        "    lines = [\n",
        "        \"So I'ma love you every night like it's the last night\",\n",
        "        \"Like it's the last night\",\n",
        "        \"If the world was ending\",\n",
        "        \"I'd wanna be next to you\",\n",
        "        \"If the party was over\",\n",
        "        \"And our time on Earth was through\",\n",
        "        \"I'd wanna hold you just for awhile\",\n",
        "        \"And die with a smile\",\n",
        "        \"If the world was ending\",\n",
        "        \"I'd wanna be next to you\",\n",
        "        \"Right next to you\"\n",
        "    ]\n",
        "    # Define delays for each line\n",
        "    delays = [0.6, 0.7, 1.0, 4.6, 1.0, 3.6, 1.7, 2.0, 0.9, 1.2, 0.5]\n",
        "\n",
        "    # Check if the lines and delays match\n",
        "    if len(lines) != len(delays):\n",
        "        print(\"Error: The number of lines and delays do not match.\")\n",
        "        return\n",
        "\n",
        "    # Print the lyrics with delays\n",
        "    for i, line in enumerate(lines):\n",
        "        for char in line:\n",
        "            print(char, end=\"\", flush=True)\n",
        "            time.sleep(0.1)  # Delay for each character\n",
        "        print()  # Move to the next line\n",
        "        time.sleep(delays[i])  # Delay after each line\n",
        "\n",
        "# Call the function to print the lyrics\n",
        "print_lyrics()\n"
      ],
      "metadata": {
        "id": "Xqc-kRda8lAh",
        "outputId": "11dcd0df-df33-45f3-c6e0-cb182e811ebd",
        "colab": {
          "base_uri": "https://localhost:8080/"
        }
      },
      "execution_count": 8,
      "outputs": [
        {
          "output_type": "stream",
          "name": "stdout",
          "text": [
            "So I'ma love you every night like it's the last night\n",
            "Like it's the last night\n",
            "If the world was ending\n",
            "I'd wanna be next to you\n",
            "If the party was over\n",
            "And our time on Earth was through\n",
            "I'd wanna hold you just for awhile\n",
            "And die with a smile\n",
            "If the world was ending\n",
            "I'd wanna be next to you\n",
            "Right next to you\n"
          ]
        }
      ]
    },
    {
      "cell_type": "code",
      "source": [
        "pip install word2number"
      ],
      "metadata": {
        "colab": {
          "base_uri": "https://localhost:8080/"
        },
        "id": "WBI36ZcZi6So",
        "outputId": "994c891a-02f1-4d9a-f0ee-89207d95c0be"
      },
      "execution_count": null,
      "outputs": [
        {
          "output_type": "stream",
          "name": "stdout",
          "text": [
            "Collecting word2number\n",
            "  Downloading word2number-1.1.zip (9.7 kB)\n",
            "  Preparing metadata (setup.py) ... \u001b[?25l\u001b[?25hdone\n",
            "Building wheels for collected packages: word2number\n",
            "  Building wheel for word2number (setup.py) ... \u001b[?25l\u001b[?25hdone\n",
            "  Created wheel for word2number: filename=word2number-1.1-py3-none-any.whl size=5566 sha256=18fe547982795c569465071a30f31b1e65c1a4cd0fa1059f716ad2d0248aa17a\n",
            "  Stored in directory: /root/.cache/pip/wheels/84/ff/26/d3cfbd971e96c5aa3737ecfced81628830d7359b55fbb8ca3b\n",
            "Successfully built word2number\n",
            "Installing collected packages: word2number\n",
            "Successfully installed word2number-1.1\n"
          ]
        }
      ]
    },
    {
      "cell_type": "code",
      "source": [
        "from word2number import w2n\n",
        "import re\n",
        "\n",
        "def extract_number_from_string(text):\n",
        "    # First, try extracting numerical digits\n",
        "    match = re.search(r'\\d+', text)\n",
        "    if match:\n",
        "        return int(match.group())\n",
        "\n",
        "    # If no digits are found, try to extract written-out number words and convert them\n",
        "    try:\n",
        "        number = w2n.word_to_num(text)\n",
        "    except ValueError:\n",
        "        number = None\n",
        "\n",
        "    return number\n",
        "\n",
        "# Example usage\n",
        "input_string1 = \"I am twenty seven years old\"\n",
        "input_string2 = \"I am 27 years old\"\n",
        "\n",
        "extracted_number1 = extract_number_from_string(input_string1)\n",
        "extracted_number2 = extract_number_from_string(input_string2)\n",
        "\n",
        "print(\"Extracted number from words:\", extracted_number1)  # Output: 27\n",
        "print(\"Extracted number from digits:\", extracted_number2)  # Output: 27\n"
      ],
      "metadata": {
        "colab": {
          "base_uri": "https://localhost:8080/",
          "height": 384
        },
        "id": "6CpTKTXOiA3Q",
        "outputId": "45ca570f-177e-4281-aeea-8882b81073ba"
      },
      "execution_count": null,
      "outputs": [
        {
          "output_type": "error",
          "ename": "ModuleNotFoundError",
          "evalue": "No module named 'word2number'",
          "traceback": [
            "\u001b[0;31m---------------------------------------------------------------------------\u001b[0m",
            "\u001b[0;31mModuleNotFoundError\u001b[0m                       Traceback (most recent call last)",
            "\u001b[0;32m<ipython-input-1-3e35d3edfb13>\u001b[0m in \u001b[0;36m<cell line: 1>\u001b[0;34m()\u001b[0m\n\u001b[0;32m----> 1\u001b[0;31m \u001b[0;32mfrom\u001b[0m \u001b[0mword2number\u001b[0m \u001b[0;32mimport\u001b[0m \u001b[0mw2n\u001b[0m\u001b[0;34m\u001b[0m\u001b[0;34m\u001b[0m\u001b[0m\n\u001b[0m\u001b[1;32m      2\u001b[0m \u001b[0;32mimport\u001b[0m \u001b[0mre\u001b[0m\u001b[0;34m\u001b[0m\u001b[0;34m\u001b[0m\u001b[0m\n\u001b[1;32m      3\u001b[0m \u001b[0;34m\u001b[0m\u001b[0m\n\u001b[1;32m      4\u001b[0m \u001b[0;32mdef\u001b[0m \u001b[0mextract_number_from_string\u001b[0m\u001b[0;34m(\u001b[0m\u001b[0mtext\u001b[0m\u001b[0;34m)\u001b[0m\u001b[0;34m:\u001b[0m\u001b[0;34m\u001b[0m\u001b[0;34m\u001b[0m\u001b[0m\n\u001b[1;32m      5\u001b[0m     \u001b[0;31m# First, try extracting numerical digits\u001b[0m\u001b[0;34m\u001b[0m\u001b[0;34m\u001b[0m\u001b[0m\n",
            "\u001b[0;31mModuleNotFoundError\u001b[0m: No module named 'word2number'",
            "",
            "\u001b[0;31m---------------------------------------------------------------------------\u001b[0;32m\nNOTE: If your import is failing due to a missing package, you can\nmanually install dependencies using either !pip or !apt.\n\nTo view examples of installing some common dependencies, click the\n\"Open Examples\" button below.\n\u001b[0;31m---------------------------------------------------------------------------\u001b[0m\n"
          ],
          "errorDetails": {
            "actions": [
              {
                "action": "open_url",
                "actionText": "Open Examples",
                "url": "/notebooks/snippets/importing_libraries.ipynb"
              }
            ]
          }
        }
      ]
    }
  ]
}